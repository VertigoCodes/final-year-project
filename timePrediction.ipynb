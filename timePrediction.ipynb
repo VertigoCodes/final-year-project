{
 "cells": [
  {
   "cell_type": "code",
   "execution_count": 6,
   "metadata": {},
   "outputs": [
    {
     "data": {
      "image/png": "[encoded data removed]",
      "text/plain": [
       "<Figure size 432x288 with 1 Axes>"
      ]
     },
     "metadata": {
      "needs_background": "light"
     },
     "output_type": "display_data"
    }
   ],
   "source": [
    "import numpy as np\n",
    "import matplotlib.pyplot as plt\n",
    "from sklearn.linear_model import LinearRegression\n",
    "from sklearn.preprocessing import PolynomialFeatures\n",
    "\n",
    "# calculatedTimes = {\n",
    "#     5 : 0.21004104614257812,\n",
    "#     10 : 0.9428768157958984, \n",
    "#     15 : 3.351041078567505, \n",
    "#     20 : 9.075204610824585, \n",
    "#     25 : 21.313498735427856, \n",
    "#     30 : 42.242138385772705,\n",
    "#     50 : 309.45635533332825, \n",
    "#     75 : 1567.0546610355377, \n",
    "# }\n",
    "\n",
    "calculatedTimes = {\n",
    "\n",
    "    5 : 1.714979,\n",
    "    15 : 3.373046, \n",
    "    50 : 4.651052\n",
    "}\n",
    "\n",
    "# Define data\n",
    "x = np.array(list(calculatedTimes.keys())).reshape(-1, 1)\n",
    "y = np.array(list(calculatedTimes.values()))\n",
    "\n",
    "# Transform the data for polynomial regression\n",
    "poly = PolynomialFeatures(degree=1)\n",
    "X_poly = poly.fit_transform(x.reshape(-1,1))\n",
    "\n",
    "# Create and train the model\n",
    "model = LinearRegression()\n",
    "model.fit(X_poly, y)\n",
    "\n",
    "# Predict for new values\n",
    "new_x = np.array([136]).reshape(-1, 1)\n",
    "new_X_poly = poly.transform(new_x)\n",
    "predicted_values = model.predict(new_X_poly)\n",
    "\n",
    "# Plot the original data and the regression line\n",
    "plt.scatter(x, y)\n",
    "plt.plot(x, model.predict(X_poly), color='red')\n",
    "plt.plot(new_x, predicted_values, 'bo')\n",
    "plt.show()\n"
   ]
  },
  {
   "cell_type": "code",
   "execution_count": 7,
   "metadata": {},
   "outputs": [
    {
     "data": {
      "text/plain": [
       "array([9.75190604])"
      ]
     },
     "execution_count": 7,
     "metadata": {},
     "output_type": "execute_result"
    }
   ],
   "source": [
    "predicted_values"
   ]
  },
  {
   "cell_type": "code",
   "execution_count": null,
   "metadata": {},
   "outputs": [],
   "source": []
  }
 ],
 "metadata": {
  "kernelspec": {
   "display_name": "Python 3",
   "language": "python",
   "name": "python3"
  },
  "language_info": {
   "codemirror_mode": {
    "name": "ipython",
    "version": 3
   },
   "file_extension": ".py",
   "mimetype": "text/x-python",
   "name": "python",
   "nbconvert_exporter": "python",
   "pygments_lexer": "ipython3",
   "version": "3.9.4"
  },
  "orig_nbformat": 4
 },
 "nbformat": 4,
 "nbformat_minor": 2
}
