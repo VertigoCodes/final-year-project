{
 "cells": [
  {
   "cell_type": "code",
   "execution_count": 1,
   "metadata": {},
   "outputs": [],
   "source": [
    "#LIBRARIES IMPORT\n",
    "%matplotlib inline\n",
    "\n",
    "import numpy as np\n",
    "import pandas as pd\n",
    "import matplotlib.pyplot as plt\n",
    "import seaborn as sns\n",
    "from sklearn import preprocessing\n"
   ]
  },
  {
   "cell_type": "code",
   "execution_count": null,
   "metadata": {},
   "outputs": [],
   "source": [
    "#function to calculate cost\n",
    "\n",
    "maxLoad = 100\n",
    "minLoad = 20\n",
    "#truckCapacity = 1500\n",
    "\n",
    "def simulateTruckDelivery(distanceData, numberOfTrucks = 1, truckCapacity = 1500):\n",
    "    np.random.shuffle(distanceData)\n",
    "\n",
    "    numberOfShops = distanceData.shape[0]\n",
    "    deliveriesToShop = {i:0 for i in range(numberOfShops)}\n",
    "\n",
    "    totalLoad = sum([np.random.randint(minLoad, maxLoad) for i in range(numberOfShops)])\n",
    "    numberOfTrips = int(np.ceil(totalLoad / (numberOfTrucks * truckCapacity)))\n",
    "\n",
    "    totalDistance = 0\n",
    "    \n",
    "    # take distance data and sort randomly\n",
    "    # take estimated cost of petrol for truck\n",
    "    # calculate total cost as function of petrol cost, number of trucks and total distance [ probable network model simulation ]"
   ]
  },
  {
   "cell_type": "code",
   "execution_count": null,
   "metadata": {},
   "outputs": [],
   "source": [
    "import numpy as np\n",
    "\n",
    "\n",
    "maxLoad = 100\n",
    "minLoad = 20\n",
    "\n",
    "def simulate_truck_delivery(distances, num_trucks=1, truck_capacity=10):\n",
    "    \"\"\"\n",
    "    Simulate a truck carrying groceries and dropping them off at a set of shops.\n",
    "    Args:\n",
    "        distances (np.array): A 2D NumPy array representing the distances between the shops.\n",
    "        num_trucks (int): The number of trucks available for the delivery (default=1).\n",
    "        truck_capacity (int): The maximum number of grocery bags each truck can carry (default=10).\n",
    "    Returns:\n",
    "        total_distance (float): The total distance traveled by the truck(s) during the delivery.\n",
    "        deliveries (dict): A dictionary mapping each shop to the number of grocery bags delivered.\n",
    "    \"\"\"\n",
    "    num_shops = distances.shape[0]\n",
    "    deliveries = {i: 0 for i in range(num_shops)}\n",
    "    total_bags = sum([np.random.randint(1, 6) for i in range(num_shops)])\n",
    "    num_trips = int(np.ceil(total_bags / (num_trucks * truck_capacity)))\n",
    "    total_distance = 0\n",
    "\n",
    "    for trip in range(num_trips):\n",
    "        bags_this_trip = min(num_trucks * truck_capacity, total_bags)\n",
    "        shop_distances = np.sum(distances * np.random.rand(num_shops, bags_this_trip), axis=1)\n",
    "        shop_order = np.argsort(shop_distances)\n",
    "        for shop in shop_order:\n",
    "            # Calculate the number of grocery bags to deliver to this shop\n",
    "            bags_this_shop = min(np.random.randint(1, 6), bags_this_trip - deliveries[shop])\n",
    "\n",
    "            # Update the delivery counts and total distance\n",
    "            deliveries[shop] += bags_this_shop\n",
    "            total_distance += shop_distances[shop] * bags_this_shop\n",
    "\n",
    "            # Stop the trip if all the grocery bags have been delivered\n",
    "            if sum(deliveries.values()) == total_bags:\n",
    "                break\n",
    "\n",
    "    return total_distance, deliveries\n"
   ]
  },
  {
   "cell_type": "code",
   "execution_count": 2,
   "metadata": {},
   "outputs": [
    {
     "name": "stdout",
     "output_type": "stream",
     "text": [
      "[0.01673774 0.02389989 0.02551552 0.10865662 0.15831221 0.16034675\n",
      " 0.16218892 0.16762123 0.19227175 0.22107892 0.2762918  0.34812843\n",
      " 0.36634484 0.37990659 0.40497769 0.41307946 0.42059013 0.4365211\n",
      " 0.46994639 0.47136184 0.49284377 0.49287535 0.49843249 0.52621641\n",
      " 0.52874676 0.53666389 0.56058562 0.56371434 0.60164877 0.61381789\n",
      " 0.61876491 0.6523957  0.68097291 0.68667498 0.68724667 0.70420344\n",
      " 0.72182373 0.74785763 0.75034767 0.75289734 0.75384596 0.76898804\n",
      " 0.78714764 0.78727981 0.7904191  0.80150357 0.80895997 0.8461138\n",
      " 0.84703097 0.84931387 0.85490024 0.96706876 0.98914054 1.0225331\n",
      " 1.02279012 1.03877735 1.06246595 1.06608014 1.08294936 1.08443674\n",
      " 1.10684691 1.12326491 1.12933497 1.13946968 1.19697723 1.21022484\n",
      " 1.23158295 1.25851911 1.27570259 1.29563471 1.32464592 1.33999992\n",
      " 1.35988806 1.36712744 1.39105355 1.39939806 1.44718454 1.45495904\n",
      " 1.54903141 1.67803106 1.69293621 1.69505277 1.71261408 1.8301225\n",
      " 1.85861434 1.9218998  1.93403644 1.9487711  2.01426136 2.04624844\n",
      " 2.04869685 2.07231815 2.09388166 2.14385651 2.16820044 2.16878964\n",
      " 2.17195216 2.17745781 2.1893666  2.21852222 2.29525445 2.2960049\n",
      " 2.30438204 2.31473859 2.32101375 2.3941668  2.46547296 2.52898781\n",
      " 2.53147809 2.53588646 2.67641901 2.74485147 2.78750284 2.79870924\n",
      " 2.84847895 2.84869913 2.88597342 3.09425158 3.27419982 3.27995809\n",
      " 3.3408643  3.6883469  3.85899514 4.01981445 4.15788384 4.23912722\n",
      " 4.28882779 4.36519219 4.68502276 4.71083331 4.81885349 4.83833515\n",
      " 5.02145056 5.5358124  6.40352871 7.57990333]\n"
     ]
    }
   ],
   "source": [
    "sourceData = np.loadtxt('sourceData_shopDistance.csv', delimiter=',')\n",
    "print(sourceData)"
   ]
  },
  {
   "cell_type": "code",
   "execution_count": null,
   "metadata": {},
   "outputs": [],
   "source": []
  }
 ],
 "metadata": {
  "kernelspec": {
   "display_name": "Python 3",
   "language": "python",
   "name": "python3"
  },
  "language_info": {
   "codemirror_mode": {
    "name": "ipython",
    "version": 3
   },
   "file_extension": ".py",
   "mimetype": "text/x-python",
   "name": "python",
   "nbconvert_exporter": "python",
   "pygments_lexer": "ipython3",
   "version": "3.9.4"
  },
  "orig_nbformat": 4,
  "vscode": {
   "interpreter": {
    "hash": "84ade2eb4b0da60572c72e53404cded586645b5f931c1f1a1a170d8882b2fed9"
   }
  }
 },
 "nbformat": 4,
 "nbformat_minor": 2
}
