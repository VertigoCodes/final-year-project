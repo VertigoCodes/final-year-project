{
 "cells": [
  {
   "cell_type": "code",
   "execution_count": 7,
   "metadata": {},
   "outputs": [],
   "source": [
    "#LIBRARIES IMPORT\n",
    "%matplotlib inline\n",
    "\n",
    "import numpy as np\n",
    "import pandas as pd\n",
    "import matplotlib.pyplot as plt\n",
    "import seaborn as sns\n",
    "from sklearn import preprocessing\n"
   ]
  },
  {
   "cell_type": "code",
   "execution_count": 22,
   "metadata": {},
   "outputs": [
    {
     "name": "stdout",
     "output_type": "stream",
     "text": [
      "[0.01673774 0.02389989 0.02551552 0.10865662 0.15831221 0.16034675\n",
      " 0.16218892 0.16762123 0.19227175 0.22107892 0.2762918  0.34812843\n",
      " 0.36634484 0.37990659 0.40497769 0.41307946 0.42059013 0.4365211\n",
      " 0.46994639 0.47136184 0.49284377 0.49287535 0.49843249 0.52621641\n",
      " 0.52874676 0.53666389 0.56058562 0.56371434 0.60164877 0.61381789\n",
      " 0.61876491 0.6523957  0.68097291 0.68667498 0.68724667 0.70420344\n",
      " 0.72182373 0.74785763 0.75034767 0.75289734 0.75384596 0.76898804\n",
      " 0.78714764 0.78727981 0.7904191  0.80150357 0.80895997 0.8461138\n",
      " 0.84703097 0.84931387 0.85490024 0.96706876 0.98914054 1.0225331\n",
      " 1.02279012 1.03877735 1.06246595 1.06608014 1.08294936 1.08443674\n",
      " 1.10684691 1.12326491 1.12933497 1.13946968 1.19697723 1.21022484\n",
      " 1.23158295 1.25851911 1.27570259 1.29563471 1.32464592 1.33999992\n",
      " 1.35988806 1.36712744 1.39105355 1.39939806 1.44718454 1.45495904\n",
      " 1.54903141 1.67803106 1.69293621 1.69505277 1.71261408 1.8301225\n",
      " 1.85861434 1.9218998  1.93403644 1.9487711  2.01426136 2.04624844\n",
      " 2.04869685 2.07231815 2.09388166 2.14385651 2.16820044 2.16878964\n",
      " 2.17195216 2.17745781 2.1893666  2.21852222 2.29525445 2.2960049\n",
      " 2.30438204 2.31473859 2.32101375 2.3941668  2.46547296 2.52898781\n",
      " 2.53147809 2.53588646 2.67641901 2.74485147 2.78750284 2.79870924\n",
      " 2.84847895 2.84869913 2.88597342 3.09425158 3.27419982 3.27995809\n",
      " 3.3408643  3.6883469  3.85899514 4.01981445 4.15788384 4.23912722\n",
      " 4.28882779 4.36519219 4.68502276 4.71083331 4.81885349 4.83833515\n",
      " 5.02145056 5.5358124  6.40352871 7.57990333]\n"
     ]
    }
   ],
   "source": [
    "sourceData = np.loadtxt('sourceData_shopDistance.csv', delimiter=',')\n",
    "print(sourceData)"
   ]
  },
  {
   "cell_type": "code",
   "execution_count": 30,
   "metadata": {},
   "outputs": [],
   "source": [
    "#function to calculate cost\n",
    "\n",
    "maxLoad = 100\n",
    "minLoad = 20\n",
    "#truckCapacity = 1500\n",
    "\n",
    "def simulateTruckDelivery(distanceData, numberOfTrucks = 1, truckCapacity = 1500):\n",
    "    np.random.shuffle(distanceData)\n",
    "\n",
    "    numberOfShops = distanceData.shape[0]\n",
    "    deliveriesToShop = {i:0 for i in range(numberOfShops)}\n",
    "\n",
    "    #totalLoad = sum([np.random.randint(minLoad, maxLoad) for i in range(numberOfShops)])\n",
    "    totalLoad = 8000\n",
    "    numberOfTrips = int(np.ceil(totalLoad / (numberOfTrucks * truckCapacity)))\n",
    "\n",
    "    totalDistance = 0\n",
    "\n",
    "    print(\"No of shops : {}\\nTotal Load : {}\\nNumber of trips : {}\\nDeliveries to shop  {}\".format(numberOfShops, totalLoad, numberOfTrips, deliveriesToShop))\n",
    "    \n",
    "\n",
    "    for trip in range(numberOfTrips):\n",
    "        print(\"Trip : {}\".format(trip+1))\n",
    "        currentTripBags = min(numberOfTrucks*truckCapacity, totalLoad)\n",
    "        shopDistances = np.sum(distanceData.reshape(-1, 1), axis=1)\n",
    "        shopOrder = np.argsort(shopDistances)\n",
    "\n",
    "        #print(\"No of Bags on current trip : {}\\nDistances between shops : {}\\nShop order = {}\".format(currentTripBags, shopDistances, shopOrder))\n",
    "        for shop in shopOrder:\n",
    "            currentShopBags = min(np.random.randint(minLoad, maxLoad), currentTripBags - deliveriesToShop[shop])\n",
    "            deliveriesToShop[shop] += currentShopBags\n",
    "\n",
    "            totalDistance += shopDistances[shop] * currentShopBags\n",
    "\n",
    "            #print(\"Deliveries to shop : {}\\nTotal distance : {}\".format(deliveriesToShop, totalDistance))\n",
    "            \n",
    "            if sum(deliveriesToShop.values()) == totalLoad:\n",
    "                break\n",
    "    \n",
    "    print(\"Total Distance : {}\\nDeliveries : {}\".format(totalDistance, deliveriesToShop))"
   ]
  },
  {
   "cell_type": "code",
   "execution_count": 31,
   "metadata": {},
   "outputs": [
    {
     "name": "stdout",
     "output_type": "stream",
     "text": [
      "No of shops : 136\n",
      "Total Load : 8000\n",
      "Number of trips : 6\n",
      "Deliveries to shop  {0: 0, 1: 0, 2: 0, 3: 0, 4: 0, 5: 0, 6: 0, 7: 0, 8: 0, 9: 0, 10: 0, 11: 0, 12: 0, 13: 0, 14: 0, 15: 0, 16: 0, 17: 0, 18: 0, 19: 0, 20: 0, 21: 0, 22: 0, 23: 0, 24: 0, 25: 0, 26: 0, 27: 0, 28: 0, 29: 0, 30: 0, 31: 0, 32: 0, 33: 0, 34: 0, 35: 0, 36: 0, 37: 0, 38: 0, 39: 0, 40: 0, 41: 0, 42: 0, 43: 0, 44: 0, 45: 0, 46: 0, 47: 0, 48: 0, 49: 0, 50: 0, 51: 0, 52: 0, 53: 0, 54: 0, 55: 0, 56: 0, 57: 0, 58: 0, 59: 0, 60: 0, 61: 0, 62: 0, 63: 0, 64: 0, 65: 0, 66: 0, 67: 0, 68: 0, 69: 0, 70: 0, 71: 0, 72: 0, 73: 0, 74: 0, 75: 0, 76: 0, 77: 0, 78: 0, 79: 0, 80: 0, 81: 0, 82: 0, 83: 0, 84: 0, 85: 0, 86: 0, 87: 0, 88: 0, 89: 0, 90: 0, 91: 0, 92: 0, 93: 0, 94: 0, 95: 0, 96: 0, 97: 0, 98: 0, 99: 0, 100: 0, 101: 0, 102: 0, 103: 0, 104: 0, 105: 0, 106: 0, 107: 0, 108: 0, 109: 0, 110: 0, 111: 0, 112: 0, 113: 0, 114: 0, 115: 0, 116: 0, 117: 0, 118: 0, 119: 0, 120: 0, 121: 0, 122: 0, 123: 0, 124: 0, 125: 0, 126: 0, 127: 0, 128: 0, 129: 0, 130: 0, 131: 0, 132: 0, 133: 0, 134: 0, 135: 0}\n",
      "Trip : 1\n",
      "Trip : 2\n",
      "Trip : 3\n",
      "Trip : 4\n",
      "Trip : 5\n",
      "Trip : 6\n",
      "Total Distance : 84469.40883935151\n",
      "Deliveries : {0: 376, 1: 353, 2: 409, 3: 356, 4: 225, 5: 265, 6: 347, 7: 353, 8: 361, 9: 390, 10: 316, 11: 382, 12: 394, 13: 368, 14: 284, 15: 407, 16: 434, 17: 308, 18: 401, 19: 307, 20: 349, 21: 249, 22: 425, 23: 422, 24: 305, 25: 361, 26: 338, 27: 302, 28: 376, 29: 417, 30: 361, 31: 439, 32: 454, 33: 315, 34: 376, 35: 386, 36: 383, 37: 303, 38: 372, 39: 352, 40: 315, 41: 334, 42: 364, 43: 345, 44: 368, 45: 328, 46: 351, 47: 303, 48: 350, 49: 360, 50: 321, 51: 310, 52: 414, 53: 287, 54: 316, 55: 232, 56: 321, 57: 439, 58: 361, 59: 348, 60: 338, 61: 331, 62: 371, 63: 351, 64: 333, 65: 294, 66: 483, 67: 324, 68: 434, 69: 432, 70: 425, 71: 345, 72: 294, 73: 314, 74: 447, 75: 380, 76: 380, 77: 317, 78: 396, 79: 281, 80: 308, 81: 266, 82: 329, 83: 269, 84: 388, 85: 262, 86: 312, 87: 415, 88: 327, 89: 329, 90: 421, 91: 332, 92: 326, 93: 345, 94: 357, 95: 356, 96: 414, 97: 381, 98: 334, 99: 402, 100: 488, 101: 266, 102: 362, 103: 327, 104: 318, 105: 372, 106: 330, 107: 371, 108: 455, 109: 291, 110: 365, 111: 309, 112: 301, 113: 306, 114: 443, 115: 357, 116: 356, 117: 499, 118: 300, 119: 423, 120: 391, 121: 375, 122: 399, 123: 500, 124: 337, 125: 306, 126: 407, 127: 366, 128: 397, 129: 275, 130: 407, 131: 353, 132: 451, 133: 330, 134: 351, 135: 340}\n"
     ]
    }
   ],
   "source": [
    "simulateTruckDelivery(sourceData)"
   ]
  },
  {
   "cell_type": "code",
   "execution_count": null,
   "metadata": {},
   "outputs": [],
   "source": []
  },
  {
   "cell_type": "code",
   "execution_count": null,
   "metadata": {},
   "outputs": [],
   "source": []
  },
  {
   "cell_type": "code",
   "execution_count": null,
   "metadata": {},
   "outputs": [],
   "source": []
  },
  {
   "cell_type": "code",
   "execution_count": 5,
   "metadata": {},
   "outputs": [],
   "source": [
    "def simulate_truck_delivery(distances, num_trucks=1, truck_capacity=10):\n",
    "\n",
    "    num_shops = distances.shape[0]\n",
    "    deliveries = {i: 0 for i in range(num_shops)}\n",
    "    total_bags = sum([np.random.randint(1, 6) for i in range(num_shops)])\n",
    "    num_trips = int(np.ceil(total_bags / (num_trucks * truck_capacity)))\n",
    "    total_distance = 0\n",
    "\n",
    "    for trip in range(num_trips):\n",
    "        bags_this_trip = min(num_trucks * truck_capacity, total_bags)\n",
    "        shop_distances = np.sum(distances * np.random.rand(num_shops, bags_this_trip), axis=1)\n",
    "        shop_order = np.argsort(shop_distances)\n",
    "        for shop in shop_order:\n",
    "            # Calculate the number of grocery bags to deliver to this shop\n",
    "            bags_this_shop = min(np.random.randint(1, 6), bags_this_trip - deliveries[shop])\n",
    "\n",
    "            # Update the delivery counts and total distance\n",
    "            deliveries[shop] += bags_this_shop\n",
    "            total_distance += shop_distances[shop] * bags_this_shop\n",
    "\n",
    "            # Stop the trip if all the grocery bags have been delivered\n",
    "            if sum(deliveries.values()) == total_bags:\n",
    "                break\n",
    "\n",
    "    return total_distance, deliveries\n"
   ]
  },
  {
   "cell_type": "code",
   "execution_count": null,
   "metadata": {},
   "outputs": [],
   "source": []
  }
 ],
 "metadata": {
  "kernelspec": {
   "display_name": "Python 3",
   "language": "python",
   "name": "python3"
  },
  "language_info": {
   "codemirror_mode": {
    "name": "ipython",
    "version": 3
   },
   "file_extension": ".py",
   "mimetype": "text/x-python",
   "name": "python",
   "nbconvert_exporter": "python",
   "pygments_lexer": "ipython3",
   "version": "3.9.4"
  },
  "orig_nbformat": 4,
  "vscode": {
   "interpreter": {
    "hash": "84ade2eb4b0da60572c72e53404cded586645b5f931c1f1a1a170d8882b2fed9"
   }
  }
 },
 "nbformat": 4,
 "nbformat_minor": 2
}
