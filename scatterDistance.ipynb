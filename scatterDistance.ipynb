{
 "cells": [
  {
   "cell_type": "code",
   "execution_count": 52,
   "metadata": {},
   "outputs": [],
   "source": [
    "import random\n",
    "import seaborn as sns\n",
    "import matplotlib.pyplot as plt\n",
    "import numpy as np\n",
    "from math import sqrt\n",
    "import time\n",
    "\n",
    "def generate_points(length, height, num_points):\n",
    "    points = []\n",
    "    for i in range(num_points):\n",
    "        x = random.uniform(0, length)\n",
    "        y = random.uniform(0, height)\n",
    "        points.append((x, y))\n",
    "\n",
    "    sns.set_style('darkgrid')\n",
    "    plt.figure(figsize=(6, 4))\n",
    "    ax = sns.scatterplot(x=[p[0] for p in points], y=[p[1] for p in points])\n",
    "    plt.title('Scatter Plot of Generated Points')\n",
    "    plt.xlabel('X')\n",
    "    plt.ylabel('Y')\n",
    "    plt.show()\n",
    "\n",
    "    #pairwise distances\n",
    "    distances = []\n",
    "    for i in range(num_points):\n",
    "        row = []\n",
    "        for j in range(num_points):\n",
    "            dist = sqrt((points[i][0] - points[j][0]) ** 2 + (points[i][1] - points[j][1]) ** 2)\n",
    "            row.append(dist)\n",
    "        distances.append(row)\n",
    "\n",
    "    return points, distances\n"
   ]
  },
  {
   "cell_type": "code",
   "execution_count": 53,
   "metadata": {},
   "outputs": [
    {
     "data": {
      "image/png": "[encoded data removed]",
      "text/plain": [
       "<Figure size 432x288 with 1 Axes>"
      ]
     },
     "metadata": {},
     "output_type": "display_data"
    },
    {
     "name": "stdout",
     "output_type": "stream",
     "text": [
      "Generated Points: [(14.928247487600082, 9.484221219476273), (16.931871848337135, 8.040119836660192), (4.396712161606741, 7.201588416162622), (13.054879520052213, 3.2906082807690105), (0.17341759360779418, 10.991454291133214)]\n",
      "Pairwise Distances: [[0.0, 2.469805535419799, 10.776068338564357, 6.470730157899992, 14.83161342312241, 9.997524518305742, 14.96245541982027, 3.500946836608236, 10.416979108301955, 4.414782888966666, 7.725404871825175, 12.59699343609248, 12.72093823897118, 9.19255810333493, 8.932224799237773, 15.530188701443215, 13.397426709339086, 4.907126580316512, 5.602013433355726, 13.209616594809567, 1.062340809152612, 11.174665719266004, 8.116808598367315, 7.382566156060063, 7.503204552920964]]\n"
     ]
    }
   ],
   "source": [
    "length = 30.0\n",
    "height = 12.0\n",
    "#num_points = 136\n",
    "num_points = 25\n",
    "\n",
    "source_points, source_distances = generate_points(length, height, num_points)\n",
    "print('Generated Points:', source_points[:5])\n",
    "print('Pairwise Distances:', source_distances[:1])\n"
   ]
  },
  {
   "attachments": {},
   "cell_type": "markdown",
   "metadata": {},
   "source": [
    "Nearest Neighbur Algorithm"
   ]
  },
  {
   "cell_type": "code",
   "execution_count": 54,
   "metadata": {},
   "outputs": [],
   "source": [
    "import numpy as np\n",
    "import itertools\n",
    "\n",
    "def find_shortest_route(points):\n",
    "\n",
    "    num_points = len(points)\n",
    "    distances = [[0] * num_points for _ in range(num_points)]\n",
    "    for i in range(num_points):\n",
    "        for j in range(num_points):\n",
    "            dist = sqrt((points[i][0] - points[j][0]) ** 2 + (points[i][1] - points[j][1]) ** 2)\n",
    "            distances[i][j] = dist\n",
    "\n",
    "    current_point = random.randint(0, num_points - 1)\n",
    "    route = [current_point]\n",
    "\n",
    "    while len(route) < num_points:\n",
    "        nearest_neighbor = None\n",
    "        nearest_distance = float('inf')\n",
    "        for i in range(num_points):\n",
    "            if i not in route and distances[current_point][i] < nearest_distance:\n",
    "                nearest_neighbor = i\n",
    "                nearest_distance = distances[current_point][i]\n",
    "\n",
    "        \n",
    "        route.append(nearest_neighbor)\n",
    "        current_point = nearest_neighbor\n",
    "\n",
    "    length = 0\n",
    "    for i in range(num_points):\n",
    "        length += distances[route[i]][route[(i + 1) % num_points]]\n",
    "\n",
    "    return route, length\n"
   ]
  },
  {
   "cell_type": "code",
   "execution_count": 55,
   "metadata": {},
   "outputs": [],
   "source": [
    "start_time = time.time()\n",
    "shortest_route, shortest_length = find_shortest_route(source_points)\n",
    "end_time = time.time()\n",
    "bruteForceTime = end_time - start_time"
   ]
  },
  {
   "attachments": {},
   "cell_type": "markdown",
   "metadata": {},
   "source": [
    "Genetic Algorithm"
   ]
  },
  {
   "cell_type": "code",
   "execution_count": 56,
   "metadata": {},
   "outputs": [],
   "source": [
    "import random\n",
    "import numpy as np\n",
    "\n",
    "def create_chromosome(num_points):\n",
    "    chromosome = list(range(num_points))\n",
    "    random.shuffle(chromosome)\n",
    "    return chromosome\n",
    "\n",
    "def fitness(chromosome, distances):\n",
    "    total_distance = 0\n",
    "    for i in range(len(chromosome) - 1):\n",
    "        j = chromosome[i]\n",
    "        k = chromosome[i+1]\n",
    "        total_distance += distances[j][k]\n",
    "    return 1 / total_distance\n",
    "\n",
    "def crossover(parent1, parent2):\n",
    "    n = len(parent1)\n",
    "    a = random.randint(0, n-1)\n",
    "    b = random.randint(0, n-1)\n",
    "    if a > b:\n",
    "        a, b = b, a\n",
    "    child = [-1] * n\n",
    "    for i in range(a, b+1):\n",
    "        child[i] = parent1[i]\n",
    "    j = 0\n",
    "    for i in range(n):\n",
    "        if child[i] == -1:\n",
    "            while parent2[j] in child:\n",
    "                j += 1\n",
    "            child[i] = parent2[j]\n",
    "            j += 1\n",
    "    return child\n",
    "\n",
    "def mutate(chromosome, mutation_rate):\n",
    "    if random.random() < mutation_rate:\n",
    "        n = len(chromosome)\n",
    "        a = random.randint(0, n-1)\n",
    "        b = random.randint(0, n-1)\n",
    "        chromosome[a], chromosome[b] = chromosome[b], chromosome[a]\n",
    "    return chromosome\n",
    "\n",
    "def select_parents(population, distances):\n",
    "    fitness_values = [fitness(chromosome, distances) for chromosome in population]\n",
    "    cum_sum = np.cumsum(fitness_values)\n",
    "    selection_probabilities = cum_sum / cum_sum[-1]\n",
    "    parent1_idx = np.searchsorted(selection_probabilities, random.random())\n",
    "    parent2_idx = np.searchsorted(selection_probabilities, random.random())\n",
    "    return population[parent1_idx], population[parent2_idx]\n",
    "\n",
    "def generate_population(num_points, pop_size):\n",
    "    population = [create_chromosome(num_points) for _ in range(pop_size)]\n",
    "    return population\n",
    "\n",
    "def genetic_algorithm(distances, pop_size=136, num_generations=100, mutation_rate=0.05):\n",
    "    num_points = len(distances)\n",
    "    population = generate_population(num_points, pop_size)\n",
    "    best_chromosome = None\n",
    "    best_fitness = 0\n",
    "    for gen in range(num_generations):\n",
    "        new_population = []\n",
    "        for _ in range(pop_size):  \n",
    "            parent1, parent2 = select_parents(population, distances)\n",
    "            child = crossover(parent1, parent2)\n",
    "            child = mutate(child, mutation_rate)\n",
    "            new_population.append(child)\n",
    "        population = new_population\n",
    "        fitness_values = [fitness(chromosome, distances) for chromosome in population]\n",
    "        idx = np.argmax(fitness_values)\n",
    "        if fitness_values[idx] > best_fitness:\n",
    "            best_chromosome = population[idx]\n",
    "            best_fitness = fitness_values[idx]\n",
    "    distance = 0\n",
    "    for i in range(len(best_chromosome) - 1):\n",
    "        j = best_chromosome[i]\n",
    "        k = best_chromosome[i+1]\n",
    "        distance += distances[j][k]\n",
    "    return best_chromosome, distance\n",
    "\n"
   ]
  },
  {
   "cell_type": "code",
   "execution_count": 57,
   "metadata": {},
   "outputs": [],
   "source": [
    "start_time = time.time()\n",
    "ga_shortest_route, ga_distance = genetic_algorithm(source_distances, 150, 50, 0.05)\n",
    "end_time = time.time()\n",
    "gaTime = end_time-start_time"
   ]
  },
  {
   "cell_type": "code",
   "execution_count": 58,
   "metadata": {},
   "outputs": [],
   "source": [
    "def calculate_length(route: List[int], distances: List[List[float]]) -> float:\n",
    "    if len(route) != len(distances):\n",
    "        raise ValueError(\"Route and distances lists must have the same length\")\n",
    "    \n",
    "    length = 0\n",
    "    for i in range(len(route) - 1):\n",
    "        if route[i] < 0 or route[i] >= len(distances) or route[i+1] < 0 or route[i+1] >= len(distances):\n",
    "            raise ValueError(\"Invalid index in route list\")\n",
    "        length += distances[route[i]][route[i+1]]\n",
    "    length += distances[route[-1]][route[0]]\n",
    "    return length\n"
   ]
  },
  {
   "attachments": {},
   "cell_type": "markdown",
   "metadata": {},
   "source": [
    "Lin Kernighan Algorithm"
   ]
  },
  {
   "cell_type": "code",
   "execution_count": 59,
   "metadata": {},
   "outputs": [],
   "source": [
    "from typing import List, Tuple\n",
    "import numpy as np\n",
    "from math import sqrt\n",
    "\n",
    "def lin_kernighan_algorithm(distances: List[List[float]], max_iterations: int=1000) -> Tuple[List[int], float]:\n",
    "\n",
    "    n = len(distances)\n",
    "    gain_matrix = np.zeros((n, n))\n",
    "    for i in range(n):\n",
    "        for j in range(i+1, n):\n",
    "            gain_matrix[i][j] = distances[i][j] - distances[i][j-1]\n",
    "            gain_matrix[j][i] = gain_matrix[i][j]\n",
    "\n",
    "    route = list(range(n))\n",
    "    best_route = route.copy()\n",
    "    best_length = calculate_length(route, distances)\n",
    "    \n",
    "    for _ in range(max_iterations):\n",
    "\n",
    "        max_gain = 0\n",
    "        for i in range(n):\n",
    "            for j in range(i+2, n):\n",
    "                if i == 0 and j == n-1:\n",
    "                    continue\n",
    "                gain = gain_matrix[route[i]][route[j]] + gain_matrix[route[i+1]][route[j-1]] - gain_matrix[route[i]][route[i+1]] - gain_matrix[route[j-1]][route[j]]\n",
    "                if gain > max_gain:\n",
    "                    max_gain = gain\n",
    "                    max_i, max_j = i, j\n",
    "\n",
    "        if max_gain == 0:\n",
    "            break\n",
    "\n",
    "        indices = list(range(max_i+1, max_j))\n",
    "        indices.reverse()\n",
    "        new_route = route[:max_i+1] + indices + route[max_j:]\n",
    "        new_length = calculate_length(new_route, distances)\n",
    "\n",
    "        if new_length < best_length:\n",
    "            best_route = new_route.copy()\n",
    "            best_length = new_length\n",
    "\n",
    "        route = best_route.copy()\n",
    "\n",
    "    return route, best_length"
   ]
  },
  {
   "cell_type": "code",
   "execution_count": 60,
   "metadata": {},
   "outputs": [],
   "source": [
    "start_time = time.time()\n",
    "linKernighan, linKernighan_length = lin_kernighan_algorithm(source_distances)\n",
    "end_time = time.time()\n",
    "linKernighanTime = end_time-start_time"
   ]
  },
  {
   "attachments": {},
   "cell_type": "markdown",
   "metadata": {},
   "source": [
    "Simulated Annealing"
   ]
  },
  {
   "cell_type": "code",
   "execution_count": 61,
   "metadata": {},
   "outputs": [],
   "source": [
    "import random\n",
    "from typing import List, Tuple\n",
    "import numpy as np\n",
    "from math import exp, sqrt\n",
    "\n",
    "def simulated_annealing(distances: List[List[float]], initial_temperature: float = 1000.0,\n",
    "                        cooling_rate: float = 0.995, max_iterations: int = 10000) -> Tuple[List[int], float]:\n",
    "\n",
    "    n = len(distances)\n",
    "    current_route = list(range(n))\n",
    "    current_length = calculate_length(current_route, distances)\n",
    "    best_route = current_route.copy()\n",
    "    best_length = current_length\n",
    "\n",
    "    temperature = initial_temperature\n",
    "    for i in range(max_iterations):\n",
    "        if temperature < 0.1:\n",
    "            break\n",
    "        new_route = current_route.copy()\n",
    "        j, k = sorted(random.sample(range(n), 2))\n",
    "        new_route[j:k+1] = reversed(new_route[j:k+1])\n",
    "        new_length = calculate_length(new_route, distances)\n",
    "        delta = new_length - current_length\n",
    "        if delta < 0 or random.random() < exp(-delta / temperature):\n",
    "            current_route = new_route\n",
    "            current_length = new_length\n",
    "        if current_length < best_length:\n",
    "            best_route = current_route.copy()\n",
    "            best_length = current_length\n",
    "        temperature *= cooling_rate\n",
    "\n",
    "    return best_route, best_length\n"
   ]
  },
  {
   "cell_type": "code",
   "execution_count": 62,
   "metadata": {},
   "outputs": [],
   "source": [
    "start_time = time.time()\n",
    "simAnnealing_route, simAnnealing_length = simulated_annealing(source_distances, initial_temperature=100000.0, cooling_rate=0.8, max_iterations=1000000)\n",
    "end_time = time.time()\n",
    "simAnnealingTime = end_time-start_time"
   ]
  },
  {
   "attachments": {},
   "cell_type": "markdown",
   "metadata": {},
   "source": [
    "Particle Swarm Optimization"
   ]
  },
  {
   "cell_type": "code",
   "execution_count": 63,
   "metadata": {},
   "outputs": [],
   "source": [
    "from typing import List, Tuple\n",
    "import random\n",
    "import numpy as np\n",
    "from math import exp, sqrt\n",
    "\n",
    "\n",
    "def particle_swarm_algorithm(distances: List[List[float]], num_particles: int=50, max_iterations: int=1000,\n",
    "                             w: float=0.8, c1: float=1.0, c2: float=1.0) -> Tuple[List[int], float]:\n",
    "\n",
    "    n = len(distances)\n",
    "    positions = np.zeros((num_particles, n), dtype=int)\n",
    "    pbest_positions = np.zeros((num_particles, n), dtype=int)\n",
    "    gbest_position = np.zeros(n, dtype=int)\n",
    "    velocities = np.zeros((num_particles, n), dtype=int)\n",
    "    pbest_fitness = np.ones(num_particles) * float('inf')\n",
    "    gbest_fitness = float('inf')\n",
    "    \n",
    "    # Initialize particles with random positions and velocities\n",
    "    for i in range(num_particles):\n",
    "        positions[i] = np.random.permutation(n)\n",
    "        velocities[i] = np.random.permutation(n) - n // 2\n",
    "\n",
    "    for iteration in range(max_iterations):\n",
    "        for i in range(num_particles):\n",
    "            fitness = calculate_length(positions[i], distances)\n",
    "            if fitness < pbest_fitness[i]:\n",
    "                pbest_fitness[i] = fitness\n",
    "                pbest_positions[i] = positions[i].copy()\n",
    "            if fitness < gbest_fitness:\n",
    "                gbest_fitness = fitness\n",
    "                gbest_position = positions[i].copy()\n",
    "                \n",
    "        for i in range(num_particles):\n",
    "            r1 = random.uniform(0, 1)\n",
    "            r2 = random.uniform(0, 1)\n",
    "            velocities[i] = w * velocities[i] + c1 * r1 * (pbest_positions[i] - positions[i]) + c2 * r2 * (gbest_position - positions[i])\n",
    "            positions[i] = np.roll(positions[i] + velocities[i], random.randint(1, n-1))\n",
    "\n",
    "    return gbest_position.tolist(), gbest_fitness\n"
   ]
  },
  {
   "cell_type": "code",
   "execution_count": 64,
   "metadata": {},
   "outputs": [],
   "source": [
    "start_time = time.time()\n",
    "pso_route, pso_length = particle_swarm_algorithm(source_distances, 1000000, 1)\n",
    "end_time = time.time()\n",
    "psoTime = end_time-start_time"
   ]
  },
  {
   "cell_type": "code",
   "execution_count": 65,
   "metadata": {},
   "outputs": [
    {
     "name": "stdout",
     "output_type": "stream",
     "text": [
      "                     Algorithm    Distance  Calculation Time\n",
      "0                  Brute force  106.892256          0.003983\n",
      "1            Two Opt Algorithm   86.558407          0.044011\n",
      "2          Three Opt Algorithm   72.994759          3.983448\n",
      "3            Genetic Algorithm  164.833164          5.015760\n",
      "4      Ant Colony Optimization   55.845315          0.260236\n",
      "5  Particle Swarm Optimization  162.267749         76.790891\n",
      "6                Lin Kernighan  239.399057          0.938968\n",
      "7          Simulated Annealing  221.358693          0.004000\n"
     ]
    }
   ],
   "source": [
    "import pandas as pd\n",
    "\n",
    "outputDataframe = {\n",
    "\n",
    "    \"Algorithm\"         : [\"Brute force\", \"Two Opt Algorithm\", \"Three Opt Algorithm\", \"Genetic Algorithm\", \"Ant Colony Optimization\", \"Particle Swarm Optimization\", \"Lin Kernighan\", \"Simulated Annealing\"] ,\n",
    "    \"Distance\"          : [shortest_length, twoopt_optimized_length, threeopt_optimized_length, ga_distance, ac_distance, pso_length, linKernighan_length, simAnnealing_length],\n",
    "    \"Calculation Time\"  : [bruteForceTime, twoOptTime, threeOptTime, gaTime, acTime, psoTime, linKernighanTime, simAnnealingTime]\n",
    "\n",
    "}\n",
    "\n",
    "df = pd.DataFrame(outputDataframe)\n",
    "print(df)"
   ]
  },
  {
   "cell_type": "code",
   "execution_count": 66,
   "metadata": {},
   "outputs": [],
   "source": [
    "# 50\n",
    "\n",
    "#                      Algorithm    Distance  Calculation Time\n",
    "# 0                  Brute force  153.528138          0.001992\n",
    "# 1            Two Opt Algorithm  121.650490          0.029019\n",
    "# 2          Three Opt Algorithm  119.150065        303.570154\n",
    "# 3            Genetic Algorithm  404.022048          4.651052\n",
    "# 4      Ant Colony Optimization  148.445973          1.049240\n",
    "# 5  Particle Swarm Optimization  377.967609         77.514629\n",
    "# 6                Lin Kernighan  576.850603          1.327296\n",
    "# 7          Simulated Annealing  484.707617          0.001001"
   ]
  },
  {
   "cell_type": "code",
   "execution_count": 67,
   "metadata": {},
   "outputs": [],
   "source": [
    "# #5\n",
    "\n",
    "#                      Algorithm   Distance  Calculation Time\n",
    "# 0                  Brute force  45.313027          0.000000\n",
    "# 1            Two Opt Algorithm  26.793277          0.008012\n",
    "# 2          Three Opt Algorithm  45.313027          0.003982\n",
    "# 3            Genetic Algorithm  26.793277          1.714979\n",
    "# 4      Ant Colony Optimization  26.793277          0.040007\n",
    "# 5  Particle Swarm Optimization  41.523983         44.478513\n",
    "# 6                Lin Kernighan  59.161229          0.000000\n",
    "# 7          Simulated Annealing  41.523983          0.000000"
   ]
  },
  {
   "cell_type": "code",
   "execution_count": 68,
   "metadata": {},
   "outputs": [],
   "source": [
    "# #15\n",
    "\n",
    "#  Algorithm    Distance  Calculation Time\n",
    "# 0                  Brute force   86.694525          0.000000\n",
    "# 1            Two Opt Algorithm   51.885814          0.021110\n",
    "# 2          Three Opt Algorithm   72.994759          3.983448\n",
    "# 3            Genetic Algorithm   87.070366          3.373046\n",
    "# 4      Ant Colony Optimization   55.845315          0.260236\n",
    "# 5  Particle Swarm Optimization   82.287243         57.647470\n",
    "# 6                Lin Kernighan  142.639755          0.323324\n",
    "# 7          Simulated Annealing   95.766722          0.000000"
   ]
  }
 ],
 "metadata": {
  "kernelspec": {
   "display_name": "Python 3",
   "language": "python",
   "name": "python3"
  },
  "language_info": {
   "codemirror_mode": {
    "name": "ipython",
    "version": 3
   },
   "file_extension": ".py",
   "mimetype": "text/x-python",
   "name": "python",
   "nbconvert_exporter": "python",
   "pygments_lexer": "ipython3",
   "version": "3.9.4"
  },
  "orig_nbformat": 4
 },
 "nbformat": 4,
 "nbformat_minor": 2
}
