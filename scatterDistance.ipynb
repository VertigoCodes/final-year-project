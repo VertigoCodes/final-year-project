{
 "cells": [
  {
   "cell_type": "code",
   "execution_count": 229,
   "metadata": {},
   "outputs": [],
   "source": [
    "import random\n",
    "import seaborn as sns\n",
    "import matplotlib.pyplot as plt\n",
    "from math import sqrt\n",
    "\n",
    "def generate_points(length, height, num_points):\n",
    "    points = []\n",
    "    for i in range(num_points):\n",
    "        x = random.uniform(0, length)\n",
    "        y = random.uniform(0, height)\n",
    "        points.append((x, y))\n",
    "\n",
    "    sns.set_style('darkgrid')\n",
    "    plt.figure(figsize=(6, 4))\n",
    "    ax = sns.scatterplot(x=[p[0] for p in points], y=[p[1] for p in points])\n",
    "    plt.title('Scatter Plot of Generated Points')\n",
    "    plt.xlabel('X')\n",
    "    plt.ylabel('Y')\n",
    "    plt.show()\n",
    "\n",
    "    #pairwise distances\n",
    "    distances = []\n",
    "    for i in range(num_points):\n",
    "        row = []\n",
    "        for j in range(num_points):\n",
    "            dist = sqrt((points[i][0] - points[j][0]) ** 2 + (points[i][1] - points[j][1]) ** 2)\n",
    "            row.append(dist)\n",
    "        distances.append(row)\n",
    "\n",
    "    return points, distances\n"
   ]
  },
  {
   "cell_type": "code",
   "execution_count": 230,
   "metadata": {},
   "outputs": [],
   "source": [
    "length = 10.0\n",
    "height = 5.0\n",
    "num_points = 136\n",
    "#num_points = 10\n"
   ]
  },
  {
   "cell_type": "code",
   "execution_count": 231,
   "metadata": {},
   "outputs": [
    {
     "data": {
      "image/png": "[encoded data removed]",
      "text/plain": [
       "<Figure size 432x288 with 1 Axes>"
      ]
     },
     "metadata": {},
     "output_type": "display_data"
    },
    {
     "name": "stdout",
     "output_type": "stream",
     "text": [
      "Generated Points: [(1.1379842760561187, 2.300043013241508), (1.7323501533359953, 3.584355843879231), (3.5803264151007186, 1.8207391182030952), (6.563106562351315, 3.4232534330363413), (2.468325265858544, 2.062597443025187)]\n",
      "Pairwise Distances: [[0.0, 1.4151785198395848, 2.4889289559872827, 5.540176303006295, 1.3513650683526828, 7.964778601031504, 6.582883889231444, 4.367339458277172, 6.253334482235598, 3.7262500365225812, 3.276526943004176, 4.409556641090782, 3.428173278577363, 5.083933862978532, 7.836923696928141, 2.6138376683831948, 5.574330900749455, 5.109598073736851, 8.771260156354378, 5.905501106796874, 4.379889769149521, 2.6468517383737087, 4.449876401231312, 3.0150212939554466, 1.3142186798477156, 3.0662525759795005, 0.9802278208567278, 4.595708179171249, 6.647542868808383, 7.123300086540436, 0.6088349457756772, 2.9366404702758806, 6.568058900680588, 7.1875926295747234, 8.4166739762061, 8.942189654638241, 8.66878999463659, 3.3221599721716353, 0.5484820558434521, 7.777974768348216, 1.4611011663679097, 5.399580727606081, 2.474383448141661, 6.801594358148007, 0.08978514117854652, 4.3255736821740856, 2.9254552863415397, 1.4715091103589049, 1.1227195380143922, 6.32140631040921, 2.819257728518689, 5.613998323092895, 3.7219448585370913, 6.8226819160204055, 7.944038054319607, 6.522921475516572, 6.874605340951021, 3.712128700814579, 7.472975807599569, 0.8568441420668813, 3.170034052489668, 7.733214744747082, 2.511068074630027, 7.551545923928894, 7.658842022698795, 4.698144454233782, 1.3555523805349459, 8.585228731740878, 3.1087004384779395, 2.9962793951684588, 1.1845991607447386, 8.693425771350705, 8.38620217540058, 3.5879293651398108, 2.03888079329878, 2.0515924654379565, 3.248699723537283, 2.888814775839143, 1.945001970491862, 4.844142249542112, 6.461335497256127, 4.104519463793309, 7.8052330669487535, 4.462797574335791, 2.2237333466865437, 3.4911872527740835, 5.952542425550564, 7.871163681324907, 3.4867797738718487, 5.838114544094216, 7.037797381240555, 4.977806531908655, 2.595743215593848, 3.73339751825865, 0.8814446011901923, 8.831459930531503, 6.186767602672444, 8.586575789712453, 1.785345490084212, 8.684417741626401, 2.6805588387039725, 5.8311921894878465, 0.8215610339341105, 5.5095345435684004, 7.038885546567807, 2.5299010069018175, 8.47409096058131, 1.808387268738287, 2.0561911975070855, 5.172129089707078, 5.550887653007495, 4.245147785088401, 1.145350107599937, 3.6703033869824115, 7.816731941332488, 2.2979531833744598, 1.7836093413285756, 5.270685622195769, 6.622742666126468, 7.1803220392624105, 5.64165646358514, 5.477723906036539, 1.6510672685918313, 6.469220902708275, 2.9208959307680686, 1.9445234710370582, 2.9047738161337673, 8.456495986428607, 1.5428895626913415, 6.456996468493563, 5.440119862340774, 4.431034620352587, 0.8631250695282797, 8.945525724832445, 6.114492964951735, 6.386750360950765]]\n"
     ]
    }
   ],
   "source": [
    "points, distances = generate_points(length, height, num_points)\n",
    "print('Generated Points:', points[:5])\n",
    "print('Pairwise Distances:', distances[:1])"
   ]
  },
  {
   "cell_type": "code",
   "execution_count": 232,
   "metadata": {},
   "outputs": [],
   "source": [
    "import itertools\n",
    "\n",
    "def find_shortest_route(points):\n",
    "\n",
    "    num_points = len(points)\n",
    "    distances = [[0] * num_points for _ in range(num_points)]\n",
    "    for i in range(num_points):\n",
    "        for j in range(num_points):\n",
    "            dist = sqrt((points[i][0] - points[j][0]) ** 2 + (points[i][1] - points[j][1]) ** 2)\n",
    "            distances[i][j] = dist\n",
    "\n",
    "    current_point = random.randint(0, num_points - 1)\n",
    "    route = [current_point]\n",
    "\n",
    "    while len(route) < num_points:\n",
    "        nearest_neighbor = None\n",
    "        nearest_distance = float('inf')\n",
    "        for i in range(num_points):\n",
    "            if i not in route and distances[current_point][i] < nearest_distance:\n",
    "                nearest_neighbor = i\n",
    "                nearest_distance = distances[current_point][i]\n",
    "\n",
    "        \n",
    "        route.append(nearest_neighbor)\n",
    "        current_point = nearest_neighbor\n",
    "\n",
    "    length = 0\n",
    "    for i in range(num_points):\n",
    "        length += distances[route[i]][route[(i + 1) % num_points]]\n",
    "\n",
    "    return route, length\n"
   ]
  },
  {
   "cell_type": "code",
   "execution_count": 233,
   "metadata": {},
   "outputs": [],
   "source": [
    "shortest_route, shortest_length = find_shortest_route(points)"
   ]
  },
  {
   "cell_type": "code",
   "execution_count": 234,
   "metadata": {},
   "outputs": [],
   "source": [
    "from typing import List, Tuple\n",
    "from math import sqrt\n",
    "from random import randrange\n",
    "\n",
    "def two_opt_algorithm(points: List[Tuple[float, float]], shortest_route: List[int], shortest_length: float, max_iterations: int=1000) -> Tuple[List[int], float]:\n",
    "\n",
    "    point_dict = {point: i for i, point in enumerate(points)}\n",
    "    indices = shortest_route.copy()\n",
    "\n",
    "    def calculate_length(route: List[int]) -> float:\n",
    "        length = 0\n",
    "        for i in range(len(route) - 1):\n",
    "            dist = sqrt((points[route[i]][0] - points[route[i+1]][0]) ** 2 + (points[route[i]][1] - points[route[i+1]][1]) ** 2)\n",
    "            length += dist\n",
    "        return length\n",
    "\n",
    "    best_route = indices.copy()\n",
    "    best_length = shortest_length\n",
    "    for i in range(max_iterations):\n",
    "\n",
    "        idx1, idx2 = sorted([randrange(len(points)) for _ in range(2)])\n",
    "        new_route = indices[:idx1] + indices[idx1:idx2+1][::-1] + indices[idx2+1:]\n",
    "        new_length = calculate_length(new_route)\n",
    "\n",
    "        if new_length < best_length:\n",
    "            best_route = new_route.copy()\n",
    "            best_length = new_length\n",
    "\n",
    "        indices = best_route.copy()\n",
    "\n",
    "    optimized_route = [list(point_dict.keys())[list(point_dict.values()).index(idx)] for idx in best_route]\n",
    "    optimized_route = [points.index(point) + 1 for point in optimized_route]\n",
    "\n",
    "    return optimized_route, best_length\n"
   ]
  },
  {
   "cell_type": "code",
   "execution_count": 235,
   "metadata": {},
   "outputs": [],
   "source": [
    "optimized_route, optimized_length = two_opt_algorithm(points, shortest_route, shortest_length)\n"
   ]
  },
  {
   "cell_type": "code",
   "execution_count": 236,
   "metadata": {},
   "outputs": [
    {
     "name": "stdout",
     "output_type": "stream",
     "text": [
      "11.712931138022881\n"
     ]
    }
   ],
   "source": [
    "print(shortest_length-optimized_length)"
   ]
  },
  {
   "cell_type": "code",
   "execution_count": null,
   "metadata": {},
   "outputs": [],
   "source": []
  }
 ],
 "metadata": {
  "kernelspec": {
   "display_name": "Python 3",
   "language": "python",
   "name": "python3"
  },
  "language_info": {
   "codemirror_mode": {
    "name": "ipython",
    "version": 3
   },
   "file_extension": ".py",
   "mimetype": "text/x-python",
   "name": "python",
   "nbconvert_exporter": "python",
   "pygments_lexer": "ipython3",
   "version": "3.9.4"
  },
  "orig_nbformat": 4
 },
 "nbformat": 4,
 "nbformat_minor": 2
}
